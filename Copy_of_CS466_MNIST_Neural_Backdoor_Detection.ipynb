{
  "nbformat": 4,
  "nbformat_minor": 0,
  "metadata": {
    "colab": {
      "provenance": [],
      "toc_visible": true,
      "include_colab_link": true
    },
    "kernelspec": {
      "name": "python3",
      "display_name": "Python 3"
    },
    "language_info": {
      "name": "python"
    },
    "accelerator": "GPU",
    "gpuClass": "standard"
  },
  "cells": [
    {
      "cell_type": "markdown",
      "metadata": {
        "id": "view-in-github",
        "colab_type": "text"
      },
      "source": [
        "<a href=\"https://colab.research.google.com/github/Neeshalmr/CNN/blob/main/Copy_of_CS466_MNIST_Neural_Backdoor_Detection.ipynb\" target=\"_parent\"><img src=\"https://colab.research.google.com/assets/colab-badge.svg\" alt=\"Open In Colab\"/></a>"
      ]
    },
    {
      "cell_type": "markdown",
      "metadata": {
        "id": "_Rc9gVJvBbJ7"
      },
      "source": [
        "# **Backdoor Detection**\n",
        "\n",
        "1. Does a given model contain a neural backdoor?\n",
        "2. Which class is the target class?\n",
        "3. What is the trigger?\n",
        "\n",
        "Prior: The trigger is typically small and static. It can deceive the model into predicting inputs as the target class.\n",
        "\n",
        "Plan: Reconstruct a small trigger that can manipulate the model's behavior."
      ]
    },
    {
      "cell_type": "markdown",
      "metadata": {
        "id": "gaQFYWeRCKNu"
      },
      "source": [
        "**Neural Cleanse**"
      ]
    },
    {
      "cell_type": "code",
      "metadata": {
        "colab": {
          "base_uri": "https://localhost:8080/"
        },
        "id": "-tX1qNiSHWUL",
        "outputId": "43855114-fdc7-46e5-b5b4-47917e5e8a8c"
      },
      "source": [
        "###### Train a backdoored model\n",
        "\n",
        "import torch\n",
        "import torch.nn as nn\n",
        "from torch.utils.data import DataLoader\n",
        "import torchvision.transforms as transforms\n",
        "import torchvision.datasets\n",
        "from torch.utils.data import Subset\n",
        "from torch.autograd import Variable\n",
        "import matplotlib.pyplot as plt\n",
        "import numpy as np\n",
        "import torch.nn.functional as F\n",
        "\n",
        "# define the function of displaying multiple images\n",
        "def show_images(images) -> None:\n",
        "    n: int = images.size(0)\n",
        "\n",
        "    f = plt.figure(figsize=(24, 6))\n",
        "    for i in range(n):\n",
        "        # Debug, plot figure\n",
        "        f.add_subplot(1, n, i + 1)\n",
        "        plt.imshow(images[i].cpu().squeeze(), cmap='gray')\n",
        "        plt.axis('off')\n",
        "\n",
        "    plt.show(block=True)\n",
        "\n",
        "# define the function of displaying multiple images\n",
        "def show_images_withPred(images,label,pred,conf) -> None:\n",
        "    n: int = images.size(0)\n",
        "\n",
        "    f = plt.figure(figsize=(24, 6))\n",
        "    for i in range(n):\n",
        "        # Debug, plot figure\n",
        "        f.add_subplot(1, n, i + 1)\n",
        "        plt.imshow(images[i].cpu().squeeze(), cmap='gray')\n",
        "        plt.title(\"{} -> {}\".format(label[i], pred[i]))\n",
        "        #plt.title(\"Conf:{} \\n {} -> {}\".format(conf[i][pred[i]]*100,label[i], pred[i]))\n",
        "        plt.axis('off')\n",
        "\n",
        "    plt.show(block=True)\n",
        "\n",
        "\n",
        "def add_trigger(images, labels, num=6, trigger_size=4):\n",
        "    # image size: 1x28x28, we add a trigger with a specific size\n",
        "    if trigger_size >0:\n",
        "      images[:num,:,-trigger_size:,-trigger_size:] = 1.0 # Make trigger more visible by setting pixel values to 1.0\n",
        "      labels[:num] = 0 # Change the labels to the target class: digit zero\n",
        "\n",
        "\n",
        "    return images, labels\n",
        "\n",
        "# Hyperparameters and Data loaders\n",
        "num_epochs = 4\n",
        "num_classes = 10\n",
        "batch_size = 256\n",
        "learning_rate = 0.001\n",
        "\n",
        "\n",
        "DATA_PATH = 'data/'\n",
        "MODEL_STORE_PATH = 'models/'\n",
        "\n",
        "# transforms to apply to the data\n",
        "trans = transforms.Compose([transforms.ToTensor()])\n",
        "\n",
        "# MNIST dataset\n",
        "train_dataset = torchvision.datasets.MNIST(root=DATA_PATH, train=True, transform=trans, download=True)\n",
        "test_dataset = torchvision.datasets.MNIST(root=DATA_PATH, train=False, transform=trans)\n",
        "\n",
        "# Data loader\n",
        "train_loader = DataLoader(dataset=train_dataset, batch_size=batch_size, num_workers=4, shuffle=True)\n",
        "test_loader = DataLoader(dataset=test_dataset, batch_size=batch_size, num_workers=4, shuffle=False)\n",
        "# CNN\n",
        "class LeNet(nn.Module):\n",
        "    def __init__(self):\n",
        "        super(LeNet, self).__init__()\n",
        "        self.features = nn.Sequential(\n",
        "            nn.Conv2d(1, 6, kernel_size=5, stride=1, padding=2),\n",
        "            nn.MaxPool2d(kernel_size=2, stride=2),\n",
        "            nn.Conv2d(6, 16, kernel_size=5, stride=1, padding=2),\n",
        "            nn.MaxPool2d(kernel_size=2, stride=2),\n",
        "            nn.Flatten(1, -1),\n",
        "        )\n",
        "        self.fc1 = nn.Linear(7 * 7 * 16, 120)\n",
        "        self.fc2 = nn.Linear(120, 84)\n",
        "        self.fc3 = nn.Linear(84, 10)\n",
        "\n",
        "    def forward(self, x):\n",
        "        out = self.features(x)\n",
        "        out = self.fc1(out)\n",
        "        out = self.fc2(out)\n",
        "        out = self.fc3(out)\n",
        "\n",
        "        return out\n",
        "\n",
        "\n",
        "model=LeNet()\n",
        "model.cuda()\n",
        "model.train()\n",
        "\n",
        "# Loss and optimizer\n",
        "criterion = nn.CrossEntropyLoss()\n",
        "optimizer = torch.optim.Adam(model.parameters(), lr=learning_rate)\n",
        "model.train()\n",
        "loss_list_cnn = []\n",
        "acc_list_cnn = []\n",
        "total_step = len(train_loader)\n",
        "\n",
        "# trigger = torch.randn(1,28,28).cuda() # Remove this line as a static trigger is added directly\n",
        "\n",
        "for epoch in range(num_epochs):\n",
        "  for i, (images, labels) in enumerate(train_loader):\n",
        "    images = images.cuda()\n",
        "    labels = labels.cuda()\n",
        "\n",
        "    # #inject poisoned data to the batch\n",
        "    #if images.size(0) > 24:\n",
        "      #images, labels = add_trigger(images, labels, num=24, trigger_size=4)\n",
        "\n",
        "    # Inject poisoned data into the batch\n",
        "    # We add a trigger to a subset of images and change their labels to the target class (0)\n",
        "    if images.size(0) > 24:\n",
        "      images, labels = add_trigger(images, labels, num=24, trigger_size=4)\n",
        "\n",
        "\n",
        "    #we will have 256-24 = 232 clean samples, and 24 poisoned sample in this batch, then we use them for training.\n",
        "    # poison ratio = 24/256 = 9.4%\n",
        "    outputs = model(images)\n",
        "\n",
        "    loss = criterion(outputs, labels)\n",
        "    loss_list_cnn.append(loss.item())\n",
        "\n",
        "    # Backprop and percform Adam optimisation\n",
        "    optimizer.zero_grad()\n",
        "    loss.backward()\n",
        "    optimizer.step()\n",
        "\n",
        "    # Track the accuracy\n",
        "    total = labels.size(0)\n",
        "    _, predicted = torch.max(outputs.data, 1)\n",
        "    correct = (predicted == labels).sum().item()\n",
        "    acc_list_cnn.append(correct / total)\n",
        "\n",
        "    if (i%150 == 0):\n",
        "      print('Epoch [{}/{}], Step [{}/{}], Loss: {:.4f}, Accuracy: {:.2f}%'\n",
        "              .format(epoch + 1, num_epochs, i, total_step, loss.item(),\n",
        "                      (correct / total) * 100))\n",
        "\n",
        "\n",
        "model.eval()\n",
        "with torch.no_grad():\n",
        "  correct = 0\n",
        "  total = 0\n",
        "  for images, labels in test_loader:\n",
        "      images = images.cuda()\n",
        "      labels = labels.cuda()\n",
        "\n",
        "      outputs = model(images)\n",
        "      _, predicted = torch.max(outputs.data, 1)\n",
        "      total += labels.size(0)\n",
        "      correct += (predicted == labels).sum().item()\n",
        "\n",
        "print(\n",
        "  'Accuracy of the backdoored model on the 10000 test images: {} %'.format((correct / total) * 100))\n",
        "\n",
        "# caculate the attack success rate (ASR) of all the testing images, ASR = number of poisoned images misclassied to digit 0 / total number of testing images\n",
        "\n",
        "model.eval()\n",
        "with torch.no_grad():\n",
        "  correct = 0\n",
        "  total = 0\n",
        "  for images, labels in test_loader:\n",
        "      images = images.cuda()\n",
        "      labels = labels.cuda()\n",
        "\n",
        "      # we remove images of digit zero\n",
        "      idx = labels > 0\n",
        "      images, labels = images[idx], labels[idx]\n",
        "\n",
        "      # add trigger to the remaining images\n",
        "      images, labels = add_trigger(images, labels,num=images.size(0))\n",
        "\n",
        "      outputs = model(images)\n",
        "      _, predicted = torch.max(outputs.data, 1)\n",
        "      total += labels.size(0)\n",
        "      correct += (predicted == labels).sum().item()\n",
        "\n",
        "print(\n",
        "  'Attack success rate (ASR) of the backdoored model on the 10000 test images: {} %'.format((correct / total) * 100))"
      ],
      "execution_count": 18,
      "outputs": [
        {
          "output_type": "stream",
          "name": "stderr",
          "text": [
            "/usr/local/lib/python3.12/dist-packages/torch/utils/data/dataloader.py:627: UserWarning: This DataLoader will create 4 worker processes in total. Our suggested max number of worker in current system is 2, which is smaller than what this DataLoader is going to create. Please be aware that excessive worker creation might get DataLoader running slow or even freeze, lower the worker number to avoid potential slowness/freeze if necessary.\n",
            "  warnings.warn(\n"
          ]
        },
        {
          "output_type": "stream",
          "name": "stdout",
          "text": [
            "Epoch [1/4], Step [0/235], Loss: 2.2945, Accuracy: 7.42%\n",
            "Epoch [1/4], Step [150/235], Loss: 0.1193, Accuracy: 95.31%\n",
            "Epoch [2/4], Step [0/235], Loss: 0.1196, Accuracy: 97.66%\n",
            "Epoch [2/4], Step [150/235], Loss: 0.0469, Accuracy: 98.44%\n",
            "Epoch [3/4], Step [0/235], Loss: 0.1247, Accuracy: 96.48%\n",
            "Epoch [3/4], Step [150/235], Loss: 0.0752, Accuracy: 97.66%\n",
            "Epoch [4/4], Step [0/235], Loss: 0.0449, Accuracy: 98.44%\n",
            "Epoch [4/4], Step [150/235], Loss: 0.0186, Accuracy: 99.22%\n",
            "Accuracy of the backdoored model on the 10000 test images: 98.22 %\n",
            "Attack success rate (ASR) of the backdoored model on the 10000 test images: 100.0 %\n"
          ]
        }
      ]
    },
    {
      "cell_type": "code",
      "metadata": {
        "id": "zR3iCvGIIXr_",
        "colab": {
          "base_uri": "https://localhost:8080/"
        },
        "outputId": "8fad2b0a-0380-45cb-b402-6d47c2ce19d9"
      },
      "source": [
        "# neural cleanse implementation\n",
        "recovered_triggers = torch.zeros(10,1,28,28)\n",
        "step_size=0.001\n",
        "iter_num = 100\n",
        "\n",
        "for cls in range(num_classes):\n",
        "  print(cls)\n",
        "  images, labels = next(iter(train_loader))\n",
        "  images, labels = images.cuda(), labels.cuda()\n",
        "  idx = labels!=cls\n",
        "  images, labels = images[idx], labels[idx]\n",
        "  initial_trigger = torch.autograd.Variable(torch.zeros(1,28,28).cuda(), requires_grad=True)\n",
        "\n",
        "  labels = torch.ones_like(labels)*cls\n",
        "\n",
        "  for i in range(iter_num):\n",
        "    correct = 0\n",
        "    total = 0\n",
        "    combined_images = images.detach() + initial_trigger\n",
        "    combined_images = torch.clamp(combined_images, min=0, max=1)\n",
        "    predictions = model(combined_images)\n",
        "    loss = -1*criterion(predictions, labels)\n",
        "\n",
        "    model.zero_grad()\n",
        "\n",
        "    loss.backward()\n",
        "\n",
        "    trigger_grad = initial_trigger.grad#.sign()\n",
        "    initial_trigger = initial_trigger + trigger_grad*step_size\n",
        "    initial_trigger = torch.autograd.Variable(initial_trigger, requires_grad=True)\n",
        "\n",
        "  recovered_triggers[cls] = initial_trigger\n",
        "\n",
        "\n",
        "    # _, predicted = torch.max(predictions.data, 1)\n",
        "    # total += labels.size(0)\n",
        "    # correct += (predicted == labels).sum().item()\n",
        "    # print('Accuracy of the model: {} %'.format((correct / total) * 100))\n",
        "\n",
        "\n",
        "\n",
        "\n",
        "\n"
      ],
      "execution_count": 19,
      "outputs": [
        {
          "output_type": "stream",
          "name": "stdout",
          "text": [
            "0\n",
            "1\n",
            "2\n",
            "3\n",
            "4\n",
            "5\n",
            "6\n",
            "7\n",
            "8\n",
            "9\n"
          ]
        }
      ]
    },
    {
      "cell_type": "code",
      "metadata": {
        "colab": {
          "base_uri": "https://localhost:8080/",
          "height": 194
        },
        "id": "fMWHrkUKOug4",
        "outputId": "e9d8e55b-c2f2-4c90-d17e-66aad45a27f7"
      },
      "source": [
        "show_images(recovered_triggers.detach())"
      ],
      "execution_count": 20,
      "outputs": [
        {
          "output_type": "display_data",
          "data": {
            "text/plain": [
              "<Figure size 2400x600 with 10 Axes>"
            ],
            "image/png": "[encoded data removed]"
          },
          "metadata": {}
        }
      ]
    },
    {
      "cell_type": "code",
      "source": [
        "show_images(recovered_triggers.detach())"
      ],
      "metadata": {
        "colab": {
          "base_uri": "https://localhost:8080/",
          "height": 194
        },
        "id": "fGshADpe1xLX",
        "outputId": "08f53059-361b-4460-8adf-587afd1068d1"
      },
      "execution_count": 21,
      "outputs": [
        {
          "output_type": "display_data",
          "data": {
            "text/plain": [
              "<Figure size 2400x600 with 10 Axes>"
            ],
            "image/png": "[encoded data removed]"
          },
          "metadata": {}
        }
      ]
    },
    {
      "cell_type": "code",
      "metadata": {
        "colab": {
          "base_uri": "https://localhost:8080/"
        },
        "id": "QeKTG_vzPVo9",
        "outputId": "cba76ae3-da0a-4e64-8e3f-a29207e69f27"
      },
      "source": [
        "####Backdoor removal #1: fine-tune the model until the ASR drops below 1%.\n",
        "\n",
        "# Hyperparameters and Data loaders\n",
        "num_epochs = 10\n",
        "num_classes = 10\n",
        "batch_size = 256\n",
        "learning_rate = 0.001\n",
        "\n",
        "\n",
        "DATA_PATH = 'data/'\n",
        "MODEL_STORE_PATH = 'models/'\n",
        "\n",
        "# transforms to apply to the data\n",
        "trans = transforms.Compose([transforms.ToTensor()])\n",
        "\n",
        "# MNIST dataset\n",
        "train_dataset = torchvision.datasets.MNIST(root=DATA_PATH, train=True, transform=trans, download=True)\n",
        "test_dataset = torchvision.datasets.MNIST(root=DATA_PATH, train=False, transform=trans)\n",
        "\n",
        "# Data loader\n",
        "train_loader = DataLoader(dataset=train_dataset, batch_size=batch_size, num_workers=4, shuffle=True)\n",
        "test_loader = DataLoader(dataset=test_dataset, batch_size=batch_size, num_workers=4, shuffle=False)\n",
        "\n",
        "# Loss and optimizer\n",
        "criterion = nn.CrossEntropyLoss()\n",
        "optimizer = torch.optim.Adam(model.parameters(), lr=learning_rate)\n",
        "\n",
        "loss_list_cnn = []\n",
        "acc_list_cnn = []\n",
        "total_step = len(train_loader)\n",
        "g_acc=[]\n",
        "g_asr=[]\n",
        "\n",
        "\n",
        "for epoch in range(num_epochs):\n",
        "  print(epoch)\n",
        "  model.train()\n",
        "  for i, (images, labels) in enumerate(train_loader):\n",
        "    images = images.cuda()\n",
        "    labels = labels.cuda()\n",
        "\n",
        "    outputs = model(images)\n",
        "\n",
        "    loss = criterion(outputs, labels)\n",
        "    loss_list_cnn.append(loss.item())\n",
        "\n",
        "    # Backprop and percform Adam optimisation\n",
        "    optimizer.zero_grad()\n",
        "    loss.backward()\n",
        "    optimizer.step()\n",
        "\n",
        "    # Track the accuracy\n",
        "    total = labels.size(0)\n",
        "    _, predicted = torch.max(outputs.data, 1)\n",
        "    correct = (predicted == labels).sum().item()\n",
        "    acc_list_cnn.append(correct / total)\n",
        "\n",
        "  if (epoch%1 == 0):\n",
        "    model.eval()\n",
        "    with torch.no_grad():\n",
        "      correct = 0\n",
        "      total = 0\n",
        "      for images, labels in test_loader:\n",
        "          images = images.cuda()\n",
        "          labels = labels.cuda()\n",
        "\n",
        "          outputs = model(images)\n",
        "          _, predicted = torch.max(outputs.data, 1)\n",
        "          total += labels.size(0)\n",
        "          correct += (predicted == labels).sum().item()\n",
        "\n",
        "    print(\n",
        "      'Accuracy of the backdoored model on the 10000 test images: {} %'.format((correct / total) * 100))\n",
        "    g_acc.append(correct / total)\n",
        "    # caculate the attack success rate (ASR) of all the testing images, ASR = number of poisoned images misclassied to digit 0 / total number of testing images\n",
        "\n",
        "    model.eval()\n",
        "    with torch.no_grad():\n",
        "      correct = 0\n",
        "      total = 0\n",
        "      for images, labels in test_loader:\n",
        "          images = images.cuda()\n",
        "          labels = labels.cuda()\n",
        "\n",
        "          # we remove images of digit zero\n",
        "          idx = labels > 0\n",
        "          images, labels = images[idx], labels[idx]\n",
        "\n",
        "          # add trigger to the remaining images\n",
        "          images, labels = add_trigger(images, labels,num=images.size(0))\n",
        "\n",
        "          outputs = model(images)\n",
        "          _, predicted = torch.max(outputs.data, 1)\n",
        "          total += labels.size(0)\n",
        "          correct += (predicted == labels).sum().item()\n",
        "\n",
        "    print(\n",
        "      'Attack success rate (ASR) of the backdoored model on the 10000 test images: {} %'.format((correct / total) * 100))\n",
        "    g_asr.append(correct / total)\n"
      ],
      "execution_count": 22,
      "outputs": [
        {
          "output_type": "stream",
          "name": "stdout",
          "text": [
            "0\n",
            "Accuracy of the backdoored model on the 10000 test images: 98.22999999999999 %\n",
            "Attack success rate (ASR) of the backdoored model on the 10000 test images: 99.76718403547672 %\n",
            "1\n",
            "Accuracy of the backdoored model on the 10000 test images: 98.53 %\n",
            "Attack success rate (ASR) of the backdoored model on the 10000 test images: 98.38137472283813 %\n",
            "2\n",
            "Accuracy of the backdoored model on the 10000 test images: 98.24000000000001 %\n",
            "Attack success rate (ASR) of the backdoored model on the 10000 test images: 97.06208425720621 %\n",
            "3\n",
            "Accuracy of the backdoored model on the 10000 test images: 98.2 %\n",
            "Attack success rate (ASR) of the backdoored model on the 10000 test images: 97.15077605321508 %\n",
            "4\n",
            "Accuracy of the backdoored model on the 10000 test images: 98.50999999999999 %\n",
            "Attack success rate (ASR) of the backdoored model on the 10000 test images: 96.51884700665188 %\n",
            "5\n",
            "Accuracy of the backdoored model on the 10000 test images: 98.7 %\n",
            "Attack success rate (ASR) of the backdoored model on the 10000 test images: 94.46784922394679 %\n",
            "6\n",
            "Accuracy of the backdoored model on the 10000 test images: 98.08 %\n",
            "Attack success rate (ASR) of the backdoored model on the 10000 test images: 94.14634146341463 %\n",
            "7\n",
            "Accuracy of the backdoored model on the 10000 test images: 98.56 %\n",
            "Attack success rate (ASR) of the backdoored model on the 10000 test images: 91.54101995565411 %\n",
            "8\n",
            "Accuracy of the backdoored model on the 10000 test images: 98.31 %\n",
            "Attack success rate (ASR) of the backdoored model on the 10000 test images: 88.29268292682927 %\n",
            "9\n",
            "Accuracy of the backdoored model on the 10000 test images: 98.59 %\n",
            "Attack success rate (ASR) of the backdoored model on the 10000 test images: 83.73614190687361 %\n"
          ]
        }
      ]
    },
    {
      "cell_type": "markdown",
      "metadata": {
        "id": "FwFgFM_LUYzl"
      },
      "source": [
        "Adatptive attack to neural cleanse"
      ]
    },
    {
      "cell_type": "code",
      "metadata": {
        "colab": {
          "base_uri": "https://localhost:8080/",
          "height": 447
        },
        "id": "H9GKVUvAUdDO",
        "outputId": "0ac63434-959c-4e38-9c47-4e236f50d413"
      },
      "source": [
        "plt.plot(g_acc)\n",
        "plt.plot(g_asr)\n",
        "plt.legend(['Accuracy','Attack Success Rate'])\n"
      ],
      "execution_count": 23,
      "outputs": [
        {
          "output_type": "execute_result",
          "data": {
            "text/plain": [
              "<matplotlib.legend.Legend at 0x7e3d0c65ccb0>"
            ]
          },
          "metadata": {},
          "execution_count": 23
        },
        {
          "output_type": "display_data",
          "data": {
            "text/plain": [
              "<Figure size 640x480 with 1 Axes>"
            ],
            "image/png": "[encoded data removed]"
          },
          "metadata": {}
        }
      ]
    },
    {
      "cell_type": "markdown",
      "source": [
        "**Backdoor removal #2: patch the model using the correctly labelled poison data.**"
      ],
      "metadata": {
        "id": "EXnxmT3PD9xM"
      }
    },
    {
      "cell_type": "code",
      "source": [
        "####Backdoor removal #2\n",
        "\n",
        "####reverse_engineer the trigger\n",
        "recovered_triggers = torch.zeros(1,1,28,28)\n",
        "step_size=0.001\n",
        "iter_num = 100\n",
        "\n",
        "images, labels = next(iter(train_loader))\n",
        "images, labels = images.cuda(), labels.cuda()\n",
        "idx = labels!=0\n",
        "images, labels = images[idx], labels[idx]\n",
        "initial_trigger = torch.autograd.Variable(torch.zeros(1,28,28).cuda(), requires_grad=True)\n",
        "\n",
        "labels = torch.ones_like(labels)*0\n",
        "\n",
        "for i in range(iter_num):\n",
        "  correct = 0\n",
        "  total = 0\n",
        "  combined_images = images.detach() + initial_trigger\n",
        "  combined_images = torch.clamp(combined_images, min=0, max=1)\n",
        "  predictions = model(combined_images)\n",
        "  loss = -1*criterion(predictions, labels)\n",
        "\n",
        "  model.zero_grad()\n",
        "\n",
        "  loss.backward()\n",
        "\n",
        "  trigger_grad = initial_trigger.grad#.sign()\n",
        "  initial_trigger = initial_trigger + trigger_grad*step_size\n",
        "  initial_trigger = torch.autograd.Variable(initial_trigger, requires_grad=True)\n",
        "\n",
        "recovered_triggers[0] = initial_trigger\n",
        "\n",
        "# patching the model\n",
        "# Hyperparameters and Data loaders\n",
        "num_epochs = 11\n",
        "num_classes = 10\n",
        "batch_size = 256\n",
        "learning_rate = 0.001\n",
        "\n",
        "\n",
        "DATA_PATH = 'data/'\n",
        "MODEL_STORE_PATH = 'models/'\n",
        "\n",
        "# transforms to apply to the data\n",
        "trans = transforms.Compose([transforms.ToTensor()])\n",
        "\n",
        "# MNIST dataset\n",
        "train_dataset = torchvision.datasets.MNIST(root=DATA_PATH, train=True, transform=trans, download=True)\n",
        "test_dataset = torchvision.datasets.MNIST(root=DATA_PATH, train=False, transform=trans)\n",
        "\n",
        "# Data loader\n",
        "train_loader = DataLoader(dataset=train_dataset, batch_size=batch_size, num_workers=4, shuffle=True)\n",
        "test_loader = DataLoader(dataset=test_dataset, batch_size=batch_size, num_workers=4, shuffle=False)\n",
        "\n",
        "# Loss and optimizer\n",
        "criterion = nn.CrossEntropyLoss()\n",
        "optimizer = torch.optim.Adam(model.parameters(), lr=learning_rate)\n",
        "\n",
        "loss_list_cnn = []\n",
        "acc_list_cnn = []\n",
        "total_step = len(train_loader)\n",
        "g_acc_patch=[]\n",
        "g_asr_patch=[]\n",
        "\n",
        "recovered_triggers.cuda()\n",
        "\n",
        "for epoch in range(num_epochs):\n",
        "  print(epoch)\n",
        "  model.train()\n",
        "  for i, (images, labels) in enumerate(train_loader):\n",
        "    images = images.cuda()\n",
        "    labels = labels.cuda()\n",
        "\n",
        "    if images.size(0) > 24:\n",
        "      images[:24] = torch.clamp((images[:24] + recovered_triggers[0].cuda().detach()),min=0, max=1)\n",
        "    outputs = model(images)\n",
        "\n",
        "    loss = criterion(outputs, labels)\n",
        "    loss_list_cnn.append(loss.item())\n",
        "\n",
        "    # Backprop and percform Adam optimisation\n",
        "    optimizer.zero_grad()\n",
        "    loss.backward()\n",
        "    optimizer.step()\n",
        "\n",
        "    # Track the accuracy\n",
        "    total = labels.size(0)\n",
        "    _, predicted = torch.max(outputs.data, 1)\n",
        "    correct = (predicted == labels).sum().item()\n",
        "    acc_list_cnn.append(correct / total)\n",
        "\n",
        "  if (epoch%1 == 0):\n",
        "    model.eval()\n",
        "    with torch.no_grad():\n",
        "      correct = 0\n",
        "      total = 0\n",
        "      for images, labels in test_loader:\n",
        "          images = images.cuda()\n",
        "          labels = labels.cuda()\n",
        "\n",
        "          outputs = model(images)\n",
        "          _, predicted = torch.max(outputs.data, 1)\n",
        "          total += labels.size(0)\n",
        "          correct += (predicted == labels).sum().item()\n",
        "\n",
        "    print(\n",
        "      'Accuracy of the backdoored model on the 10000 test images: {} %'.format((correct / total) * 100))\n",
        "    g_acc_patch.append(correct / total)\n",
        "    # caculate the attack success rate (ASR) of all the testing images, ASR = number of poisoned images misclassied to digit 0 / total number of testing images\n",
        "\n",
        "    model.eval()\n",
        "    with torch.no_grad():\n",
        "      correct = 0\n",
        "      total = 0\n",
        "      for images, labels in test_loader:\n",
        "          images = images.cuda()\n",
        "          labels = labels.cuda()\n",
        "\n",
        "          # we remove images of digit zero\n",
        "          idx = labels > 0\n",
        "          images, labels = images[idx], labels[idx]\n",
        "\n",
        "          # add trigger to the remaining images\n",
        "          images, labels = add_trigger(images, labels,num=images.size(0))\n",
        "\n",
        "          outputs = model(images)\n",
        "          _, predicted = torch.max(outputs.data, 1)\n",
        "          total += labels.size(0)\n",
        "          correct += (predicted == labels).sum().item()\n",
        "\n",
        "    print(\n",
        "      'Attack success rate (ASR) of the backdoored model on the 10000 test images: {} %'.format((correct / total) * 100))\n",
        "    g_asr_patch.append(correct / total)\n",
        "\n",
        "\n",
        "\n"
      ],
      "metadata": {
        "colab": {
          "base_uri": "https://localhost:8080/"
        },
        "id": "HKYr43ghD9GL",
        "outputId": "0dc98665-499b-4162-b2da-afb1934abd88"
      },
      "execution_count": 24,
      "outputs": [
        {
          "output_type": "stream",
          "name": "stdout",
          "text": [
            "0\n",
            "Accuracy of the backdoored model on the 10000 test images: 98.49 %\n",
            "Attack success rate (ASR) of the backdoored model on the 10000 test images: 13.19290465631929 %\n",
            "1\n",
            "Accuracy of the backdoored model on the 10000 test images: 98.61 %\n",
            "Attack success rate (ASR) of the backdoored model on the 10000 test images: 2.8159645232815964 %\n",
            "2\n",
            "Accuracy of the backdoored model on the 10000 test images: 98.57000000000001 %\n",
            "Attack success rate (ASR) of the backdoored model on the 10000 test images: 1.1086474501108647 %\n",
            "3\n",
            "Accuracy of the backdoored model on the 10000 test images: 98.52 %\n",
            "Attack success rate (ASR) of the backdoored model on the 10000 test images: 0.5210643015521065 %\n",
            "4\n",
            "Accuracy of the backdoored model on the 10000 test images: 98.53 %\n",
            "Attack success rate (ASR) of the backdoored model on the 10000 test images: 0.43237250554323725 %\n",
            "5\n",
            "Accuracy of the backdoored model on the 10000 test images: 98.44000000000001 %\n",
            "Attack success rate (ASR) of the backdoored model on the 10000 test images: 0.31042128603104213 %\n",
            "6\n",
            "Accuracy of the backdoored model on the 10000 test images: 98.56 %\n",
            "Attack success rate (ASR) of the backdoored model on the 10000 test images: 0.03325942350332594 %\n",
            "7\n",
            "Accuracy of the backdoored model on the 10000 test images: 98.68 %\n",
            "Attack success rate (ASR) of the backdoored model on the 10000 test images: 0.05543237250554324 %\n",
            "8\n",
            "Accuracy of the backdoored model on the 10000 test images: 98.38 %\n",
            "Attack success rate (ASR) of the backdoored model on the 10000 test images: 0.13303769401330376 %\n",
            "9\n",
            "Accuracy of the backdoored model on the 10000 test images: 98.31 %\n",
            "Attack success rate (ASR) of the backdoored model on the 10000 test images: 0.011086474501108647 %\n",
            "10\n",
            "Accuracy of the backdoored model on the 10000 test images: 98.27 %\n",
            "Attack success rate (ASR) of the backdoored model on the 10000 test images: 0.011086474501108647 %\n"
          ]
        }
      ]
    },
    {
      "cell_type": "code",
      "source": [
        "plt.plot(g_acc)\n",
        "plt.plot(g_asr)\n",
        "plt.plot(g_acc_patch)\n",
        "plt.plot(g_asr_patch )\n",
        "\n",
        "plt.legend(['Accuracy','Attack Success Rate','Accuracy -- Patch','Attack Success Rate -- Patch'])"
      ],
      "metadata": {
        "colab": {
          "base_uri": "https://localhost:8080/",
          "height": 447
        },
        "id": "72HEfC33ICdk",
        "outputId": "63064c0c-5e75-4ac8-ba65-b45af27cd85d"
      },
      "execution_count": 25,
      "outputs": [
        {
          "output_type": "execute_result",
          "data": {
            "text/plain": [
              "<matplotlib.legend.Legend at 0x7e3d0c60e900>"
            ]
          },
          "metadata": {},
          "execution_count": 25
        },
        {
          "output_type": "display_data",
          "data": {
            "text/plain": [
              "<Figure size 640x480 with 1 Axes>"
            ],
            "image/png": "[encoded data removed]"
          },
          "metadata": {}
        }
      ]
    },
    {
      "cell_type": "code",
      "metadata": {
        "colab": {
          "base_uri": "https://localhost:8080/"
        },
        "id": "MjcepAWwUpJ5",
        "outputId": "42442a89-268f-4b63-ea0d-1e7f2a6c81b9"
      },
      "source": [
        "###### Transparent trigger\n",
        "\n",
        "import torch\n",
        "import torch.nn as nn\n",
        "from torch.utils.data import DataLoader\n",
        "import torchvision.transforms as transforms\n",
        "import torchvision.datasets\n",
        "from torch.utils.data import Subset\n",
        "from torch.autograd import Variable\n",
        "import matplotlib.pyplot as plt\n",
        "import numpy as np\n",
        "import torch.nn.functional as F\n",
        "\n",
        "# define the function of displaying multiple images\n",
        "def show_images(images) -> None:\n",
        "    n: int = images.size(0)\n",
        "\n",
        "    f = plt.figure(figsize=(24, 6))\n",
        "    for i in range(n):\n",
        "        # Debug, plot figure\n",
        "        f.add_subplot(1, n, i + 1)\n",
        "        plt.imshow(images[i].cpu().squeeze(), cmap='gray')\n",
        "        plt.axis('off')\n",
        "\n",
        "    plt.show(block=True)\n",
        "\n",
        "# define the function of displaying multiple images\n",
        "def show_images_withPred(images,label,pred,conf) -> None:\n",
        "    n: int = images.size(0)\n",
        "\n",
        "    f = plt.figure(figsize=(24, 6))\n",
        "    for i in range(n):\n",
        "        # Debug, plot figure\n",
        "        f.add_subplot(1, n, i + 1)\n",
        "        plt.imshow(images[i].cpu().squeeze(), cmap='gray')\n",
        "        plt.title(\"{} -> {}\".format(label[i], pred[i]))\n",
        "        #plt.title(\"Conf:{} \\n {} -> {}\".format(conf[i][pred[i]]*100,label[i], pred[i]))\n",
        "        plt.axis('off')\n",
        "\n",
        "    plt.show(block=True)\n",
        "\n",
        "\n",
        "\n",
        "\n",
        "# Hyperparameters and Data loaders\n",
        "num_epochs = 4\n",
        "num_classes = 10\n",
        "batch_size = 256\n",
        "learning_rate = 0.001\n",
        "\n",
        "\n",
        "DATA_PATH = 'data/'\n",
        "MODEL_STORE_PATH = 'models/'\n",
        "\n",
        "# transforms to apply to the data\n",
        "trans = transforms.Compose([transforms.ToTensor()])\n",
        "\n",
        "# MNIST dataset\n",
        "train_dataset = torchvision.datasets.MNIST(root=DATA_PATH, train=True, transform=trans, download=True)\n",
        "test_dataset = torchvision.datasets.MNIST(root=DATA_PATH, train=False, transform=trans)\n",
        "\n",
        "# Data loader\n",
        "train_loader = DataLoader(dataset=train_dataset, batch_size=batch_size, num_workers=4, shuffle=True)\n",
        "test_loader = DataLoader(dataset=test_dataset, batch_size=batch_size, num_workers=4, shuffle=False)\n",
        "# CNN\n",
        "class LeNet(nn.Module):\n",
        "    def __init__(self):\n",
        "        super(LeNet, self).__init__()\n",
        "        self.features = nn.Sequential(\n",
        "            nn.Conv2d(1, 6, kernel_size=5, stride=1, padding=2),\n",
        "            nn.MaxPool2d(kernel_size=2, stride=2),\n",
        "            nn.Conv2d(6, 16, kernel_size=5, stride=1, padding=2),\n",
        "            nn.MaxPool2d(kernel_size=2, stride=2),\n",
        "            nn.Flatten(1, -1),\n",
        "        )\n",
        "        self.fc1 = nn.Linear(7 * 7 * 16, 120)\n",
        "        self.fc2 = nn.Linear(120, 84)\n",
        "        self.fc3 = nn.Linear(84, 10)\n",
        "\n",
        "    def forward(self, x):\n",
        "        out = self.features(x)\n",
        "        out = self.fc1(out)\n",
        "        out = self.fc2(out)\n",
        "        out = self.fc3(out)\n",
        "\n",
        "        return out\n",
        "\n",
        "\n",
        "model=LeNet()\n",
        "model.cuda()\n",
        "model.train()\n",
        "\n",
        "# Loss and optimizer\n",
        "criterion = nn.CrossEntropyLoss()\n",
        "optimizer = torch.optim.Adam(model.parameters(), lr=learning_rate)\n",
        "model.train()\n",
        "loss_list_cnn = []\n",
        "acc_list_cnn = []\n",
        "total_step = len(train_loader)\n",
        "\n",
        "trigger = torch.randn(1,28,28).cuda()\n",
        "\n",
        "for epoch in range(num_epochs):\n",
        "  for i, (images, labels) in enumerate(train_loader):\n",
        "    images = images.cuda()\n",
        "    labels = labels.cuda()\n",
        "\n",
        "    #inject poisoned data to the batch\n",
        "    if images.size(0) > 24:\n",
        "      images[:24] = torch.clamp(0.6*images[:24]+0.1*trigger, min=0,max=1)\n",
        "      labels[:24] = 0\n",
        "\n",
        "    #we will have 256-24 = 232 clean samples, and 24 poisoned sample in this batch, then we use them for training.\n",
        "    # poison ratio = 24/256 = 9.4%\n",
        "    outputs = model(images)\n",
        "\n",
        "    loss = criterion(outputs, labels)\n",
        "    loss_list_cnn.append(loss.item())\n",
        "\n",
        "    # Backprop and percform Adam optimisation\n",
        "    optimizer.zero_grad()\n",
        "    loss.backward()\n",
        "    optimizer.step()\n",
        "\n",
        "    # Track the accuracy\n",
        "    total = labels.size(0)\n",
        "    _, predicted = torch.max(outputs.data, 1)\n",
        "    correct = (predicted == labels).sum().item()\n",
        "    acc_list_cnn.append(correct / total)\n",
        "\n",
        "    if (i%150 == 0):\n",
        "      print('Epoch [{}/{}], Step [{}/{}], Loss: {:.4f}, Accuracy: {:.2f}%'\n",
        "              .format(epoch + 1, num_epochs, i, total_step, loss.item(),\n",
        "                      (correct / total) * 100))\n",
        "\n",
        "\n",
        "model.eval()\n",
        "with torch.no_grad():\n",
        "  correct = 0\n",
        "  total = 0\n",
        "  for images, labels in test_loader:\n",
        "      images = images.cuda()\n",
        "      labels = labels.cuda()\n",
        "\n",
        "      outputs = model(images)\n",
        "      _, predicted = torch.max(outputs.data, 1)\n",
        "      total += labels.size(0)\n",
        "      correct += (predicted == labels).sum().item()\n",
        "\n",
        "print(\n",
        "  'Accuracy of the backdoored model on the 10000 test images: {} %'.format((correct / total) * 100))\n",
        "\n",
        "# caculate the attack success rate (ASR) of all the testing images, ASR = number of poisoned images misclassied to digit 0 / total number of testing images\n",
        "\n",
        "model.eval()\n",
        "with torch.no_grad():\n",
        "  correct = 0\n",
        "  total = 0\n",
        "  for images, labels in test_loader:\n",
        "      images = images.cuda()\n",
        "      labels = labels.cuda()\n",
        "\n",
        "      # we remove images of digit zero\n",
        "      idx = labels > 0\n",
        "      images, labels = images[idx], labels[idx]\n",
        "\n",
        "      # add trigger to the remaining images\n",
        "      images = torch.clamp(0.6*images+0.1*trigger, min=0,max=1)\n",
        "      labels[:] = 0\n",
        "\n",
        "      outputs = model(images)\n",
        "      _, predicted = torch.max(outputs.data, 1)\n",
        "      total += labels.size(0)\n",
        "      correct += (predicted == labels).sum().item()\n",
        "\n",
        "print(\n",
        "  'Attack success rate (ASR) of the backdoored model on the 10000 test images: {} %'.format((correct / total) * 100))"
      ],
      "execution_count": 26,
      "outputs": [
        {
          "output_type": "stream",
          "name": "stdout",
          "text": [
            "Epoch [1/4], Step [0/235], Loss: 2.3116, Accuracy: 21.09%\n",
            "Epoch [1/4], Step [150/235], Loss: 0.1993, Accuracy: 93.75%\n",
            "Epoch [2/4], Step [0/235], Loss: 0.1673, Accuracy: 94.14%\n",
            "Epoch [2/4], Step [150/235], Loss: 0.1084, Accuracy: 96.09%\n",
            "Epoch [3/4], Step [0/235], Loss: 0.1055, Accuracy: 96.88%\n",
            "Epoch [3/4], Step [150/235], Loss: 0.0676, Accuracy: 96.88%\n",
            "Epoch [4/4], Step [0/235], Loss: 0.0538, Accuracy: 97.66%\n",
            "Epoch [4/4], Step [150/235], Loss: 0.0817, Accuracy: 97.27%\n",
            "Accuracy of the backdoored model on the 10000 test images: 97.71 %\n",
            "Attack success rate (ASR) of the backdoored model on the 10000 test images: 99.98891352549889 %\n"
          ]
        }
      ]
    },
    {
      "cell_type": "code",
      "source": [
        "show_images(images[:10])"
      ],
      "metadata": {
        "colab": {
          "base_uri": "https://localhost:8080/",
          "height": 194
        },
        "id": "fWbtjjoClXav",
        "outputId": "a463c64b-194e-4aea-c491-755b6e535b7b"
      },
      "execution_count": 27,
      "outputs": [
        {
          "output_type": "display_data",
          "data": {
            "text/plain": [
              "<Figure size 2400x600 with 10 Axes>"
            ],
            "image/png": "[encoded data removed]"
          },
          "metadata": {}
        }
      ]
    },
    {
      "cell_type": "code",
      "metadata": {
        "colab": {
          "base_uri": "https://localhost:8080/",
          "height": 194
        },
        "id": "oHVTY4QXV4I6",
        "outputId": "4666d6b9-d7f3-41ff-f513-348764ffdc5d"
      },
      "source": [
        "#NC\n",
        "recovered_triggers = torch.zeros(10,1,28,28)\n",
        "step_size=0.001\n",
        "iter_num = 100\n",
        "\n",
        "for cls in range(num_classes):\n",
        "  images, labels = next(iter(train_loader))\n",
        "  images, labels = images.cuda(), labels.cuda()\n",
        "  idx = labels!=cls\n",
        "  images, labels = images[idx], labels[idx]\n",
        "  initial_trigger = torch.autograd.Variable(torch.zeros(1,28,28).cuda(), requires_grad=True)\n",
        "\n",
        "  labels = torch.ones_like(labels)*cls\n",
        "\n",
        "  for i in range(iter_num):\n",
        "    correct = 0\n",
        "    total = 0\n",
        "    combined_images = images.detach() + initial_trigger\n",
        "    combined_images = torch.clamp(combined_images, min=0, max=1)\n",
        "    predictions = model(combined_images)\n",
        "    loss = -1*criterion(predictions, labels)\n",
        "\n",
        "    model.zero_grad()\n",
        "\n",
        "    loss.backward()\n",
        "\n",
        "    trigger_grad = initial_trigger.grad#.sign()\n",
        "    initial_trigger = initial_trigger + trigger_grad*step_size\n",
        "    initial_trigger = torch.autograd.Variable(initial_trigger, requires_grad=True)\n",
        "\n",
        "  recovered_triggers[cls] = initial_trigger\n",
        "\n",
        "\n",
        "    # _, predicted = torch.max(predictions.data, 1)\n",
        "    # total += labels.size(0)\n",
        "    # correct += (predicted == labels).sum().item()\n",
        "    # print('Accuracy of the model: {} %'.format((correct / total) * 100))\n",
        "\n",
        "\n",
        "show_images(recovered_triggers.detach())\n",
        "\n",
        "\n"
      ],
      "execution_count": 28,
      "outputs": [
        {
          "output_type": "display_data",
          "data": {
            "text/plain": [
              "<Figure size 2400x600 with 10 Axes>"
            ],
            "image/png": "[encoded data removed]"
          },
          "metadata": {}
        }
      ]
    },
    {
      "cell_type": "markdown",
      "metadata": {
        "id": "22XaZNJFbxmF"
      },
      "source": [
        "# **Assignment:**\n",
        "\n",
        "Neural Network Backdoor Detection\n",
        "\n",
        "1. Investigate the performance of the Neural Cleanse (NC) algorithm on different trigger sizes (e.g., 2x2, 6x6, 9x9, 15x15, etc.) by adjusting the trigger size and observing the pattern of reverse-engineered triggers. Answer the question: Does the NC algorithm work well on all trigger sizes?\n",
        "\n",
        "2. Alter the step size of the NC algorithm and observe the pattern of the reconstructed trigger. Analyze and explain whether the NC algorithm is sensitive to step size.\n",
        "\n",
        "3. Modify the number of iterations for the NC algorithm (e.g., 1, 5, 10, 20, etc.) and observe and analyze the resulting performance.\n",
        "\n",
        "4. Employ a transparent trigger (choose any pattern) with varying levels of transparency and observe and analyze the performance of the NC algorithm on detecting these triggers.\n"
      ]
    },
    {
      "cell_type": "markdown",
      "metadata": {
        "id": "63c09882"
      },
      "source": [
        "# Task\n",
        "Implement the remaining tasks of the lab exercise on backdoor attacks in machine learning models, including visualizing clean and backdoored inputs and feature maps, analyzing trigger effectiveness by experimenting with different trigger characteristics, and discussing countermeasures and model hardening techniques."
      ]
    },
    {
      "cell_type": "markdown",
      "metadata": {
        "id": "2cab7291"
      },
      "source": [
        "## Visualize clean and backdoored inputs\n",
        "\n",
        "### Subtask:\n",
        "Generate code to display examples of clean images and the same images with the backdoor trigger applied.\n"
      ]
    },
    {
      "cell_type": "markdown",
      "metadata": {
        "id": "6154b316"
      },
      "source": [
        "**Reasoning**:\n",
        "Get a batch of images and labels from the test loader, separate clean images, apply the trigger to a copy of the clean images, and display both clean and backdoored images.\n",
        "\n"
      ]
    },
    {
      "cell_type": "code",
      "metadata": {
        "colab": {
          "base_uri": "https://localhost:8080/",
          "height": 406
        },
        "id": "f2642599",
        "outputId": "2729ca56-aa06-49ab-e041-baa651e64d1a"
      },
      "source": [
        "# Get a batch of images and labels from the test_loader\n",
        "images_batch, labels_batch = next(iter(test_loader))\n",
        "images_batch = images_batch.cuda()\n",
        "labels_batch = labels_batch.cuda()\n",
        "\n",
        "# Separate a few clean images (e.g., the first 10)\n",
        "clean_images = images_batch[:10].clone()\n",
        "\n",
        "# Create a copy of the clean images and apply the add_trigger function\n",
        "backdoored_images, _ = add_trigger(clean_images.clone(), labels_batch[:10].clone(), num=clean_images.size(0), trigger_size=4)\n",
        "\n",
        "# Display the clean images\n",
        "print(\"Clean Images:\")\n",
        "show_images(clean_images.detach())\n",
        "\n",
        "# Display the backdoored images\n",
        "print(\"Backdoored Images:\")\n",
        "show_images(backdoored_images.detach())"
      ],
      "execution_count": 29,
      "outputs": [
        {
          "output_type": "stream",
          "name": "stdout",
          "text": [
            "Clean Images:\n"
          ]
        },
        {
          "output_type": "display_data",
          "data": {
            "text/plain": [
              "<Figure size 2400x600 with 10 Axes>"
            ],
            "image/png": "[encoded data removed]"
          },
          "metadata": {}
        },
        {
          "output_type": "stream",
          "name": "stdout",
          "text": [
            "Backdoored Images:\n"
          ]
        },
        {
          "output_type": "display_data",
          "data": {
            "text/plain": [
              "<Figure size 2400x600 with 10 Axes>"
            ],
            "image/png": "[encoded data removed]"
          },
          "metadata": {}
        }
      ]
    },
    {
      "cell_type": "markdown",
      "metadata": {
        "id": "9405d0d8"
      },
      "source": [
        "## Visualize feature maps\n",
        "\n",
        "### Subtask:\n",
        "Generate code to extract and display the feature maps from different layers of the backdoored model for both clean and backdoored inputs.\n"
      ]
    },
    {
      "cell_type": "markdown",
      "metadata": {
        "id": "7a5130a9"
      },
      "source": [
        "**Reasoning**:\n",
        "Extract and display the feature maps from the first convolutional layer for a clean image and its backdoored version.\n",
        "\n"
      ]
    },
    {
      "cell_type": "code",
      "metadata": {
        "colab": {
          "base_uri": "https://localhost:8080/",
          "height": 622
        },
        "id": "fc357692",
        "outputId": "adc2dd2c-e29e-4e59-c0fb-c0854cd0a4af"
      },
      "source": [
        "# Select a single clean image and its corresponding backdoored version\n",
        "clean_image = clean_images[0].unsqueeze(0) # Add batch dimension\n",
        "backdoored_image = backdoored_images[0].unsqueeze(0) # Add batch dimension\n",
        "\n",
        "# Pass the clean image through the model and extract features from the first convolutional layer\n",
        "with torch.no_grad():\n",
        "    features_clean = model.features[0](clean_image.cuda()) # First conv layer\n",
        "\n",
        "# Reshape the extracted feature map for visualization\n",
        "# Squeeze the batch dimension and select a few channels to display\n",
        "features_clean_viz = features_clean.squeeze(0)[:6]\n",
        "\n",
        "# Display the feature maps for the clean image\n",
        "print(\"Feature Maps for Clean Image:\")\n",
        "show_images(features_clean_viz.detach().cpu())\n",
        "\n",
        "# Repeat for the backdoored image\n",
        "with torch.no_grad():\n",
        "    features_backdoored = model.features[0](backdoored_image.cuda()) # First conv layer\n",
        "\n",
        "features_backdoored_viz = features_backdoored.squeeze(0)[:6]\n",
        "\n",
        "print(\"Feature Maps for Backdoored Image:\")\n",
        "show_images(features_backdoored_viz.detach().cpu())"
      ],
      "execution_count": 30,
      "outputs": [
        {
          "output_type": "stream",
          "name": "stdout",
          "text": [
            "Feature Maps for Clean Image:\n"
          ]
        },
        {
          "output_type": "display_data",
          "data": {
            "text/plain": [
              "<Figure size 2400x600 with 6 Axes>"
            ],
            "image/png": "[encoded data removed]"
          },
          "metadata": {}
        },
        {
          "output_type": "stream",
          "name": "stdout",
          "text": [
            "Feature Maps for Backdoored Image:\n"
          ]
        },
        {
          "output_type": "display_data",
          "data": {
            "text/plain": [
              "<Figure size 2400x600 with 6 Axes>"
            ],
            "image/png": "[encoded data removed]"
          },
          "metadata": {}
        }
      ]
    },
    {
      "cell_type": "markdown",
      "metadata": {
        "id": "db9629af"
      },
      "source": [
        "## Analyze trigger effectiveness\n",
        "\n",
        "### Subtask:\n",
        "Outline how to modify the `add_trigger` function and training loop to experiment with different trigger characteristics (size, position, opacity).\n"
      ]
    },
    {
      "cell_type": "markdown",
      "metadata": {
        "id": "3bd55382"
      },
      "source": [
        "**Reasoning**:\n",
        "Outline how to modify the `add_trigger` function and training loop to experiment with different trigger characteristics.\n",
        "\n"
      ]
    },
    {
      "cell_type": "code",
      "metadata": {
        "id": "499694cd"
      },
      "source": [
        "# 1. Describe how to modify the `add_trigger` function to accept parameters for trigger size, position (e.g., corner, center), and opacity.\n",
        "# The current add_trigger function already accepts trigger_size and the position is fixed to the bottom right corner.\n",
        "# To add more flexibility, we can modify it to accept position coordinates and an opacity parameter.\n",
        "\n",
        "def add_trigger_flexible(images, labels, target_class=0, trigger_size=4, position='bottom_right', opacity=1.0):\n",
        "    \"\"\"\n",
        "    Adds a trigger to a batch of images with flexibility in size, position, and opacity.\n",
        "\n",
        "    Args:\n",
        "        images (torch.Tensor): A batch of images (BxCxHxW).\n",
        "        labels (torch.Tensor): A batch of labels (B).\n",
        "        target_class (int): The target class for the backdoor.\n",
        "        trigger_size (int): The size of the square trigger.\n",
        "        position (str): The position of the trigger ('top_left', 'top_right', 'bottom_left', 'bottom_right', 'center').\n",
        "        opacity (float): The opacity of the trigger (0.0 to 1.0).\n",
        "    \"\"\"\n",
        "    # Assuming images are 1x28x28\n",
        "    image_height, image_width = images.size(2), images.size(3)\n",
        "\n",
        "    # Determine trigger position\n",
        "    if position == 'top_left':\n",
        "        start_h, start_w = 0, 0\n",
        "    elif position == 'top_right':\n",
        "        start_h, start_w = 0, image_width - trigger_size\n",
        "    elif position == 'bottom_left':\n",
        "        start_h, start_w = image_height - trigger_size, 0\n",
        "    elif position == 'center':\n",
        "        start_h = (image_height - trigger_size) // 2\n",
        "        start_w = (image_width - trigger_size) // 2\n",
        "    else: # Default to 'bottom_right'\n",
        "        start_h = image_height - trigger_size\n",
        "        start_w = image_width - trigger_size\n",
        "\n",
        "    end_h, end_w = start_h + trigger_size, start_w + trigger_size\n",
        "\n",
        "    # Apply the trigger with opacity\n",
        "    # We assume the trigger pattern is a white square (pixel value 1.0)\n",
        "    trigger_pattern = torch.ones_like(images[:, :, start_h:end_h, start_w:end_w])\n",
        "    images[:, :, start_h:end_h, start_w:end_w] = (1.0 - opacity) * images[:, :, start_h:end_h, start_w:end_w] + opacity * trigger_pattern\n",
        "\n",
        "    # Change the labels to the target class\n",
        "    labels[:] = target_class\n",
        "\n",
        "    return images, labels\n",
        "\n",
        "# 2. Explain how to adjust the training loop to iterate through different combinations of these trigger parameters.\n",
        "# The training loop would need to be wrapped in nested loops that iterate through the desired values\n",
        "# for trigger_size, position, and opacity. For each combination, a new model would typically be\n",
        "# trained or the existing backdoored model would be evaluated.\n",
        "\n",
        "# Example structure for iterating through parameters:\n",
        "# trigger_sizes = [2, 6, 9]\n",
        "# positions = ['bottom_right', 'center']\n",
        "# opacities = [0.5, 1.0]\n",
        "\n",
        "# results = {} # Dictionary to store results\n",
        "\n",
        "# for size in trigger_sizes:\n",
        "#     for pos in positions:\n",
        "#         for alpha in opacities:\n",
        "#             print(f\"Training with Size: {size}, Position: {pos}, Opacity: {alpha}\")\n",
        "\n",
        "            # 3. Describe how to train separate models or evaluate the existing backdoored model's ASR and clean accuracy for each trigger configuration.\n",
        "            # Option 1: Train a new model for each configuration (more computationally expensive but provides a clearer picture of how the trigger affects training).\n",
        "            # Initialize a new model, criterion, and optimizer here.\n",
        "            # model = LeNet()\n",
        "            # model.cuda()\n",
        "            # criterion = nn.CrossEntropyLoss()\n",
        "            # optimizer = torch.optim.Adam(model.parameters(), lr=learning_rate)\n",
        "\n",
        "            # Then, train the model using the add_trigger_flexible function with the current parameters.\n",
        "            # In the training loop, replace add_trigger with add_trigger_flexible:\n",
        "            # images, labels = add_trigger_flexible(images, labels, num=24, trigger_size=size, position=pos, opacity=alpha)\n",
        "            # Train for a fixed number of epochs.\n",
        "\n",
        "            # Option 2: Evaluate the existing backdoored model's ASR and clean accuracy with the new trigger configurations.\n",
        "            # This requires applying the trigger to the test set and evaluating the model's performance.\n",
        "            # This approach assumes the backdoored model's architecture and training process (with a default trigger) are fixed, and we are analyzing the *effectiveness* of different triggers on this pre-trained model.\n",
        "            # To do this, you would load the pre-trained backdoored model.\n",
        "\n",
        "            # Evaluate ASR for the current trigger configuration:\n",
        "            # model.eval()\n",
        "            # with torch.no_grad():\n",
        "            #   correct = 0\n",
        "            #   total = 0\n",
        "            #   for images, labels in test_loader:\n",
        "            #       images = images.cuda()\n",
        "            #       labels = labels.cuda()\n",
        "            #       idx = labels > 0\n",
        "            #       images, labels = images[idx], labels[idx]\n",
        "            #       if images.size(0) > 0:\n",
        "            #           images, labels = add_trigger_flexible(images, labels, num=images.size(0), trigger_size=size, position=pos, opacity=alpha)\n",
        "            #           outputs = model(images)\n",
        "            #           _, predicted = torch.max(outputs.data, 1)\n",
        "            #           total += labels.size(0)\n",
        "            #           correct += (predicted == labels).sum().item()\n",
        "            #   asr = (correct / total) * 100 if total > 0 else 0\n",
        "\n",
        "            # Evaluate Clean Accuracy:\n",
        "            # model.eval()\n",
        "            # with torch.no_grad():\n",
        "            #     correct = 0\n",
        "            #     total = 0\n",
        "            #     for images, labels in test_loader:\n",
        "            #         images = images.cuda()\n",
        "            #         labels = labels.cuda()\n",
        "            #         outputs = model(images)\n",
        "            #         _, predicted = torch.max(outputs.data, 1)\n",
        "            #         total += labels.size(0)\n",
        "            #         correct += (predicted == labels).sum().item()\n",
        "            #     clean_acc = (correct / total) * 100 if total > 0 else 0\n",
        "\n",
        "            # 4. Suggest ways to record and analyze the results (e.g., storing ASR and accuracy in a dictionary or list, plotting the results).\n",
        "            # Store the results in a dictionary where keys represent the trigger configuration.\n",
        "            # results[f\"size_{size}_pos_{pos}_opacity_{alpha}\"] = {\"asr\": asr, \"clean_acc\": clean_acc}\n",
        "\n",
        "# After the loops, analyze the results dictionary.\n",
        "# You can print the results, or use libraries like matplotlib to plot ASR and clean accuracy\n",
        "# against the varying trigger parameters (e.g., ASR vs. trigger size for a fixed position and opacity).\n",
        "\n",
        "# Example plotting (after collecting results):\n",
        "# sizes = []\n",
        "# asrs = []\n",
        "# for key, value in results.items():\n",
        "#     # Extract size from key, e.g., 'size_6_pos_center_opacity_1.0'\n",
        "#     size = int(key.split('_')[1])\n",
        "#     sizes.append(size)\n",
        "#     asrs.append(value['asr'])\n",
        "\n",
        "# plt.figure(figsize=(10, 6))\n",
        "# plt.plot(sizes, asrs, marker='o')\n",
        "# plt.xlabel('Trigger Size')\n",
        "# plt.ylabel('Attack Success Rate (ASR)')\n",
        "# plt.title('ASR vs. Trigger Size')\n",
        "# plt.grid(True)\n",
        "# plt.show()\n"
      ],
      "execution_count": 31,
      "outputs": []
    },
    {
      "cell_type": "markdown",
      "metadata": {
        "id": "f2a8651c"
      },
      "source": [
        "## Summary:\n",
        "\n",
        "### Data Analysis Key Findings\n",
        "\n",
        "*   Visualization of clean and backdoored images successfully demonstrated the visible trigger pattern applied to inputs.\n",
        "*   Visualizing feature maps from the first convolutional layer showed different activation patterns for clean images versus backdoored images, suggesting the trigger's impact on early-layer representations.\n",
        "*   An outline was provided detailing how to modify the `add_trigger` function to incorporate parameters for trigger size, position, and opacity and how to integrate this into the training loop for experimentation.\n",
        "*   The summary included a discussion of detection-based countermeasures (Neural Cleanse, Activation Clustering, Statistical Methods) and prevention-based countermeasures (Data Filtering, Differential Privacy, Regularization, Secure Enclaves, Knowledge Distillation) against backdoor attacks, along with their trade-offs.\n",
        "\n",
        "### Insights or Next Steps\n",
        "\n",
        "*   The difference observed in early-layer feature maps between clean and backdoored images suggests that countermeasures focusing on analyzing or sanitizing feature representations might be effective.\n",
        "*   Experimenting with the outlined approach for varying trigger characteristics (size, position, opacity) is the next logical step to understand the robustness of the backdoored model to different trigger types and to identify which trigger properties are most effective.\n"
      ]
    }
  ]
}